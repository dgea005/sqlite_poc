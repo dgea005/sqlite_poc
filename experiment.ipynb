{
 "cells": [
  {
   "cell_type": "code",
   "execution_count": 8,
   "metadata": {
    "collapsed": true
   },
   "outputs": [],
   "source": [
    "import numpy as np\n",
    "from random import randrange\n",
    "from datetime import datetime"
   ]
  },
  {
   "cell_type": "code",
   "execution_count": 9,
   "metadata": {},
   "outputs": [
    {
     "data": {
      "text/plain": [
       "'2018-03-13 22:58:38'"
      ]
     },
     "execution_count": 9,
     "metadata": {},
     "output_type": "execute_result"
    }
   ],
   "source": [
    "datetime.now().strftime(\"%Y-%m-%d %H:%M:%S\")"
   ]
  },
  {
   "cell_type": "code",
   "execution_count": 10,
   "metadata": {
    "collapsed": true
   },
   "outputs": [],
   "source": [
    "scrap_freq_min = 10"
   ]
  },
  {
   "cell_type": "code",
   "execution_count": 11,
   "metadata": {},
   "outputs": [
    {
     "name": "stdout",
     "output_type": "stream",
     "text": [
      "6.0\n"
     ]
    }
   ],
   "source": [
    "scrapes_per_hour = (60 / scrap_freq_min)\n",
    "print(scrapes_per_hour)"
   ]
  },
  {
   "cell_type": "code",
   "execution_count": 12,
   "metadata": {
    "collapsed": true
   },
   "outputs": [],
   "source": [
    "hours_scraped = 17"
   ]
  },
  {
   "cell_type": "code",
   "execution_count": 13,
   "metadata": {},
   "outputs": [
    {
     "name": "stdout",
     "output_type": "stream",
     "text": [
      "102.0\n"
     ]
    }
   ],
   "source": [
    "total_scrapes_per_day = hours_scraped * scrapes_per_hour\n",
    "print(total_scrapes_per_day)"
   ]
  },
  {
   "cell_type": "code",
   "execution_count": 32,
   "metadata": {},
   "outputs": [
    {
     "data": {
      "text/plain": [
       "37230"
      ]
     },
     "execution_count": 32,
     "metadata": {},
     "output_type": "execute_result"
    }
   ],
   "source": [
    "102 * 365"
   ]
  },
  {
   "cell_type": "code",
   "execution_count": 14,
   "metadata": {
    "collapsed": true
   },
   "outputs": [],
   "source": [
    "listings_per_scrape = 40"
   ]
  },
  {
   "cell_type": "code",
   "execution_count": 15,
   "metadata": {},
   "outputs": [
    {
     "data": {
      "text/plain": [
       "1489200.0"
      ]
     },
     "execution_count": 15,
     "metadata": {},
     "output_type": "execute_result"
    }
   ],
   "source": [
    "total_per_year = total_scrapes_per_day * listings_per_scrape * 365\n",
    "total_per_year"
   ]
  },
  {
   "cell_type": "code",
   "execution_count": 16,
   "metadata": {},
   "outputs": [
    {
     "data": {
      "text/plain": [
       "14892.0"
      ]
     },
     "execution_count": 16,
     "metadata": {},
     "output_type": "execute_result"
    }
   ],
   "source": [
    "## total new listings that will appear\n",
    "total_per_year * 0.01"
   ]
  },
  {
   "cell_type": "code",
   "execution_count": 17,
   "metadata": {},
   "outputs": [
    {
     "data": {
      "text/plain": [
       "array([ 0,  1,  2,  3,  4,  5,  6,  7,  8,  9, 10, 11, 12, 13, 14, 15, 16,\n",
       "       17, 18, 19, 20, 21, 22, 23, 24, 25, 26, 27, 28, 29, 30, 31, 32, 33,\n",
       "       34, 35, 36, 37, 38, 39])"
      ]
     },
     "execution_count": 17,
     "metadata": {},
     "output_type": "execute_result"
    }
   ],
   "source": [
    "# expect ids to look like this\n",
    "np.arange(40)"
   ]
  },
  {
   "cell_type": "code",
   "execution_count": 18,
   "metadata": {},
   "outputs": [
    {
     "data": {
      "text/plain": [
       "1.02"
      ]
     },
     "execution_count": 18,
     "metadata": {},
     "output_type": "execute_result"
    }
   ],
   "source": [
    "102 * 0.01"
   ]
  },
  {
   "cell_type": "code",
   "execution_count": 19,
   "metadata": {},
   "outputs": [
    {
     "data": {
      "text/plain": [
       "0.4"
      ]
     },
     "execution_count": 19,
     "metadata": {},
     "output_type": "execute_result"
    }
   ],
   "source": [
    "\n",
    "# total new listings per year / total scrape iterations\n",
    "(total_per_year * 0.01)  / (total_scrapes_per_day * 365)"
   ]
  },
  {
   "cell_type": "code",
   "execution_count": 20,
   "metadata": {},
   "outputs": [
    {
     "data": {
      "text/plain": [
       "0"
      ]
     },
     "execution_count": 20,
     "metadata": {},
     "output_type": "execute_result"
    }
   ],
   "source": [
    "# from above if expected 15k new listings per year from 37k scrape iterations\n",
    "# then we can just 0.4 binomial chance\n",
    "\n",
    "np.random.binomial(1, 0.4)"
   ]
  },
  {
   "cell_type": "code",
   "execution_count": 21,
   "metadata": {},
   "outputs": [
    {
     "name": "stdout",
     "output_type": "stream",
     "text": [
      "14915\n"
     ]
    }
   ],
   "source": [
    "# to test this\n",
    "scrape_iterations = int(total_scrapes_per_day * 365)\n",
    "#scrape_iterations = 10\n",
    "first_scrape_number = 39\n",
    "for i in range(scrape_iterations):\n",
    "    if np.random.binomial(1, 0.4):\n",
    "        first_scrape_number += 1\n",
    "    ## generate entries here\n",
    "    ## i.e., np.arange(first_scrape_number-40, first_scrape_number)\n",
    "print(first_scrape_number)"
   ]
  },
  {
   "cell_type": "code",
   "execution_count": 22,
   "metadata": {},
   "outputs": [
    {
     "data": {
      "text/plain": [
       "array([14875, 14876, 14877, 14878, 14879, 14880, 14881, 14882, 14883,\n",
       "       14884, 14885, 14886, 14887, 14888, 14889, 14890, 14891, 14892,\n",
       "       14893, 14894, 14895, 14896, 14897, 14898, 14899, 14900, 14901,\n",
       "       14902, 14903, 14904, 14905, 14906, 14907, 14908, 14909, 14910,\n",
       "       14911, 14912, 14913, 14914])"
      ]
     },
     "execution_count": 22,
     "metadata": {},
     "output_type": "execute_result"
    }
   ],
   "source": [
    "# how scraped ids are generated\n",
    "np.arange(first_scrape_number-40, first_scrape_number)"
   ]
  },
  {
   "cell_type": "markdown",
   "metadata": {},
   "source": [
    "#### random entry generation\n",
    "\n",
    "+ listing_id\n",
    "+ listing_url\n",
    "+ kiez\n",
    "+ start_date\n",
    "+ end_date (can be null)\n",
    "+ scrape_time\n",
    "+ stay_length_days (can be null)\n",
    "+ size\n",
    "+ price"
   ]
  },
  {
   "cell_type": "code",
   "execution_count": 23,
   "metadata": {},
   "outputs": [],
   "source": [
    "listing_ids = np.arange(first_scrape_number-40, first_scrape_number)"
   ]
  },
  {
   "cell_type": "code",
   "execution_count": 24,
   "metadata": {},
   "outputs": [
    {
     "data": {
      "text/plain": [
       "array([14875, 14876, 14877, 14878, 14879, 14880, 14881, 14882, 14883,\n",
       "       14884, 14885, 14886, 14887, 14888, 14889, 14890, 14891, 14892,\n",
       "       14893, 14894, 14895, 14896, 14897, 14898, 14899, 14900, 14901,\n",
       "       14902, 14903, 14904, 14905, 14906, 14907, 14908, 14909, 14910,\n",
       "       14911, 14912, 14913, 14914])"
      ]
     },
     "execution_count": 24,
     "metadata": {},
     "output_type": "execute_result"
    }
   ],
   "source": [
    "listing_ids"
   ]
  },
  {
   "cell_type": "code",
   "execution_count": 25,
   "metadata": {
    "collapsed": true
   },
   "outputs": [],
   "source": [
    "random_date = datetime.now().strftime(\"%Y-%m-%d %H:%M:%S\")"
   ]
  },
  {
   "cell_type": "code",
   "execution_count": 28,
   "metadata": {
    "collapsed": true
   },
   "outputs": [],
   "source": [
    "def generate_random_record(listing_id, scrape_time):\n",
    "    listing_url = f'http://my_fake_url.com/items/{listing_id}'\n",
    "    random_text = f'{randrange(8**10)}'\n",
    "    return {'listing_id': listing_id,\n",
    "             'listing_url': listing_url,\n",
    "             'kiez': random_text,\n",
    "             'start_date': random_text,\n",
    "             'end_date': random_text,\n",
    "             'scrape_time': scrape_time,\n",
    "             'stay_length_days': np.random.randint(30, 270),\n",
    "             'size': np.random.randint(10, 100),\n",
    "             'price': np.random.randint(400, 1000)}\n",
    "    \n",
    "    \n",
    "    "
   ]
  },
  {
   "cell_type": "code",
   "execution_count": 30,
   "metadata": {},
   "outputs": [],
   "source": [
    "chunk = [generate_random_record(l_id, random_date) for l_id in listing_ids]"
   ]
  },
  {
   "cell_type": "code",
   "execution_count": 31,
   "metadata": {},
   "outputs": [
    {
     "data": {
      "text/plain": [
       "40"
      ]
     },
     "execution_count": 31,
     "metadata": {},
     "output_type": "execute_result"
    }
   ],
   "source": [
    "len(chunk)"
   ]
  },
  {
   "cell_type": "code",
   "execution_count": null,
   "metadata": {
    "collapsed": true
   },
   "outputs": [],
   "source": []
  }
 ],
 "metadata": {
  "kernelspec": {
   "display_name": "Python 3",
   "language": "python",
   "name": "python3"
  },
  "language_info": {
   "codemirror_mode": {
    "name": "ipython",
    "version": 3
   },
   "file_extension": ".py",
   "mimetype": "text/x-python",
   "name": "python",
   "nbconvert_exporter": "python",
   "pygments_lexer": "ipython3",
   "version": "3.6.3"
  }
 },
 "nbformat": 4,
 "nbformat_minor": 2
}
